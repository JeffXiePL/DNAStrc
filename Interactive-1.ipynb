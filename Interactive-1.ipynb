{
 "cells": [
  {
   "cell_type": "markdown",
   "metadata": {},
   "source": [
    "Connected to .venv (Python 3.11.9)"
   ]
  },
  {
   "cell_type": "code",
   "execution_count": 1,
   "id": "68685714-bd26-425e-9ff6-bdd8bb16d6a5",
   "metadata": {},
   "outputs": [
    {
     "ename": "SyntaxError",
     "evalue": "invalid syntax (<ipython-input-1-d994f12d289c>, line 3)",
     "output_type": "error",
     "traceback": [
      "\u001b[0;36m  Cell \u001b[0;32mIn[1], line 3\u001b[0;36m\u001b[0m\n\u001b[0;31m    import courses from dummyclass\u001b[0m\n\u001b[0m                   ^\u001b[0m\n\u001b[0;31mSyntaxError\u001b[0m\u001b[0;31m:\u001b[0m invalid syntax\n"
     ]
    }
   ],
   "source": [
    "import courses from dummyclass\n",
    "\n",
    "biology = courses(\"bioscience\", \"biosci\", 1)\n",
    "print(biology.shortname)"
   ]
  },
  {
   "cell_type": "code",
   "execution_count": 2,
   "id": "aceff9a4-4956-4dfb-b2a5-afacecd10d67",
   "metadata": {},
   "outputs": [
    {
     "ename": "AttributeError",
     "evalue": "'courses' object has no attribute 'shortname'",
     "output_type": "error",
     "traceback": [
      "\u001b[0;31m---------------------------------------------------------------------------\u001b[0m",
      "\u001b[0;31mAttributeError\u001b[0m                            Traceback (most recent call last)",
      "File \u001b[1;32m/Users/PeilunXie/Desktop/PythonProject/code1.py:6\u001b[0m\n\u001b[1;32m      3\u001b[0m \u001b[39mfrom\u001b[39;00m \u001b[39mdummyclass\u001b[39;00m \u001b[39mimport\u001b[39;00m courses\n\u001b[1;32m      5\u001b[0m biology \u001b[39m=\u001b[39m courses(\u001b[39m\"\u001b[39m\u001b[39mbioscience\u001b[39m\u001b[39m\"\u001b[39m, \u001b[39m\"\u001b[39m\u001b[39mbiosci\u001b[39m\u001b[39m\"\u001b[39m, \u001b[39m1\u001b[39m)\n\u001b[0;32m----> 6\u001b[0m \u001b[39mprint\u001b[39m(biology\u001b[39m.\u001b[39;49mshortname)\n",
      "\u001b[0;31mAttributeError\u001b[0m: 'courses' object has no attribute 'shortname'"
     ]
    }
   ],
   "source": [
    "from dummyclass import courses\n",
    "\n",
    "biology = courses(\"bioscience\", \"biosci\", 1)\n",
    "print(biology.shortname)"
   ]
  },
  {
   "cell_type": "code",
   "execution_count": 3,
   "id": "47dddf4c-841d-4260-8b29-4b7fbc16cd0e",
   "metadata": {},
   "outputs": [
    {
     "ename": "AttributeError",
     "evalue": "'courses' object has no attribute 'shortname'",
     "output_type": "error",
     "traceback": [
      "\u001b[0;31m---------------------------------------------------------------------------\u001b[0m",
      "\u001b[0;31mAttributeError\u001b[0m                            Traceback (most recent call last)",
      "File \u001b[1;32m/Users/PeilunXie/Desktop/PythonProject/code1.py:6\u001b[0m\n\u001b[1;32m      3\u001b[0m \u001b[39mfrom\u001b[39;00m \u001b[39mdummyclass\u001b[39;00m \u001b[39mimport\u001b[39;00m courses\n\u001b[1;32m      5\u001b[0m biology \u001b[39m=\u001b[39m courses(\u001b[39m\"\u001b[39m\u001b[39mbioscience\u001b[39m\u001b[39m\"\u001b[39m, \u001b[39m\"\u001b[39m\u001b[39mbiosci\u001b[39m\u001b[39m\"\u001b[39m, \u001b[39m1\u001b[39m)\n\u001b[0;32m----> 6\u001b[0m \u001b[39mprint\u001b[39m(biology\u001b[39m.\u001b[39;49mshortname)\n",
      "\u001b[0;31mAttributeError\u001b[0m: 'courses' object has no attribute 'shortname'"
     ]
    }
   ],
   "source": [
    "from dummyclass import courses\n",
    "\n",
    "biology = courses(\"bioscience\", \"biosci\", 1)\n",
    "print(biology.shortname)"
   ]
  },
  {
   "cell_type": "code",
   "execution_count": 4,
   "id": "fe14cdc4-9317-436e-958e-fce90f35014e",
   "metadata": {},
   "outputs": [
    {
     "ename": "AttributeError",
     "evalue": "'courses' object has no attribute 'shortname'",
     "output_type": "error",
     "traceback": [
      "\u001b[0;31m---------------------------------------------------------------------------\u001b[0m",
      "\u001b[0;31mAttributeError\u001b[0m                            Traceback (most recent call last)",
      "File \u001b[1;32m/Users/PeilunXie/Desktop/PythonProject/code1.py:6\u001b[0m\n\u001b[1;32m      3\u001b[0m \u001b[39mfrom\u001b[39;00m \u001b[39mdummyclass\u001b[39;00m \u001b[39mimport\u001b[39;00m courses\n\u001b[1;32m      5\u001b[0m biology \u001b[39m=\u001b[39m courses(\u001b[39m\"\u001b[39m\u001b[39mbioscience\u001b[39m\u001b[39m\"\u001b[39m, \u001b[39m\"\u001b[39m\u001b[39mbiosci\u001b[39m\u001b[39m\"\u001b[39m, \u001b[39m1\u001b[39m)\n\u001b[0;32m----> 6\u001b[0m \u001b[39mprint\u001b[39m(biology\u001b[39m.\u001b[39;49mshortname)\n",
      "\u001b[0;31mAttributeError\u001b[0m: 'courses' object has no attribute 'shortname'"
     ]
    }
   ],
   "source": [
    "from dummyclass import courses\n",
    "\n",
    "biology = courses(\"bioscience\", \"biosci\", 1)\n",
    "print(biology.shortname)"
   ]
  },
  {
   "cell_type": "code",
   "execution_count": 5,
   "id": "4e343af9-77ed-4406-8dbf-54b791c60313",
   "metadata": {},
   "outputs": [
    {
     "ename": "AttributeError",
     "evalue": "'courses' object has no attribute 'shortname'",
     "output_type": "error",
     "traceback": [
      "\u001b[0;31m---------------------------------------------------------------------------\u001b[0m",
      "\u001b[0;31mAttributeError\u001b[0m                            Traceback (most recent call last)",
      "File \u001b[1;32m/Users/PeilunXie/Desktop/PythonProject/code1.py:6\u001b[0m\n\u001b[1;32m      3\u001b[0m \u001b[39mfrom\u001b[39;00m \u001b[39mdummyclass\u001b[39;00m \u001b[39mimport\u001b[39;00m courses\n\u001b[1;32m      5\u001b[0m biology \u001b[39m=\u001b[39m courses(\u001b[39m\"\u001b[39m\u001b[39mbioscience\u001b[39m\u001b[39m\"\u001b[39m, \u001b[39m\"\u001b[39m\u001b[39mbiosci\u001b[39m\u001b[39m\"\u001b[39m, \u001b[39m1\u001b[39m)\n\u001b[0;32m----> 6\u001b[0m \u001b[39mprint\u001b[39m(biology\u001b[39m.\u001b[39;49mshortname)\n",
      "\u001b[0;31mAttributeError\u001b[0m: 'courses' object has no attribute 'shortname'"
     ]
    }
   ],
   "source": [
    "from dummyclass import courses\n",
    "\n",
    "biology = courses(\"bioscience\", \"biosci\", 1)\n",
    "print(biology.shortname)"
   ]
  },
  {
   "cell_type": "code",
   "execution_count": 6,
   "id": "62b0b98a-ab4f-4fbd-96b6-21b13d7e139e",
   "metadata": {},
   "outputs": [
    {
     "ename": "AttributeError",
     "evalue": "'courses' object has no attribute 'shortname'",
     "output_type": "error",
     "traceback": [
      "\u001b[0;31m---------------------------------------------------------------------------\u001b[0m",
      "\u001b[0;31mAttributeError\u001b[0m                            Traceback (most recent call last)",
      "File \u001b[1;32m/Users/PeilunXie/Desktop/PythonProject/code1.py:6\u001b[0m\n\u001b[1;32m      3\u001b[0m \u001b[39mfrom\u001b[39;00m \u001b[39mdummyclass\u001b[39;00m \u001b[39mimport\u001b[39;00m courses\n\u001b[1;32m      5\u001b[0m biology \u001b[39m=\u001b[39m courses(\u001b[39m\"\u001b[39m\u001b[39mbioscience\u001b[39m\u001b[39m\"\u001b[39m, \u001b[39m\"\u001b[39m\u001b[39mbiosci\u001b[39m\u001b[39m\"\u001b[39m, \u001b[39m1\u001b[39m)\n\u001b[0;32m----> 6\u001b[0m \u001b[39mprint\u001b[39m(biology\u001b[39m.\u001b[39;49mshortname)\n",
      "\u001b[0;31mAttributeError\u001b[0m: 'courses' object has no attribute 'shortname'"
     ]
    }
   ],
   "source": [
    "from dummyclass import courses\n",
    "\n",
    "biology = courses(\"bioscience\", \"biosci\", 1)\n",
    "print(biology.shortname)"
   ]
  },
  {
   "cell_type": "code",
   "execution_count": 7,
   "id": "b34f8227-f274-43f3-ac8c-d5d54a2e59bd",
   "metadata": {},
   "outputs": [
    {
     "name": "stdout",
     "output_type": "stream",
     "text": [
      "HOX1\n"
     ]
    }
   ],
   "source": [
    "class TF:\n",
    "    x=\"HOX1\"\n",
    "    y=\"HOX2\"\n",
    "\n",
    "tf=TF()\n",
    "print(tf.x)"
   ]
  },
  {
   "cell_type": "code",
   "execution_count": 8,
   "id": "521c3ab5-ce3c-4f64-a51c-e7c798eba2ca",
   "metadata": {},
   "outputs": [
    {
     "name": "stdout",
     "output_type": "stream",
     "text": [
      "<__main__.Person object at 0x11122b210>\n"
     ]
    }
   ],
   "source": [
    "class Person:\n",
    "  def __init__(self, name, age):\n",
    "    self.name = name\n",
    "    self.age = age\n",
    "\n",
    "p1 = Person(\"John\", 36)\n",
    "\n",
    "print(p1)"
   ]
  },
  {
   "cell_type": "code",
   "execution_count": 9,
   "id": "317e8e2d-f4da-4dec-b814-de48202e87f1",
   "metadata": {},
   "outputs": [
    {
     "name": "stdout",
     "output_type": "stream",
     "text": [
      "<__main__.Person object at 0x111306610>\n"
     ]
    }
   ],
   "source": [
    "class Person:\n",
    "  def __init__(self, name, age):\n",
    "    self.name = name\n",
    "    self.age = age\n",
    "p1 = Person(\"John\", 36)\n",
    "print(p1)"
   ]
  },
  {
   "cell_type": "code",
   "execution_count": 10,
   "id": "12dcb32b-63b6-42c0-b9e9-b9cfc5cf0e59",
   "metadata": {},
   "outputs": [
    {
     "name": "stdout",
     "output_type": "stream",
     "text": [
      "36\n"
     ]
    }
   ],
   "source": [
    "class Person:\n",
    "  def __init__(self, name, age):\n",
    "    self.name = name\n",
    "    self.age = age\n",
    "p1 = Person(\"John\", 36)\n",
    "print(p1.age)"
   ]
  },
  {
   "cell_type": "code",
   "execution_count": 11,
   "id": "a65fbbb1-b5a4-4f73-b6b6-01325222c798",
   "metadata": {},
   "outputs": [
    {
     "name": "stdout",
     "output_type": "stream",
     "text": [
      "John(36)\n"
     ]
    }
   ],
   "source": [
    "class Person:\n",
    "  def __init__(self, name, age):\n",
    "    self.name = name\n",
    "    self.age = age\n",
    "\n",
    "  def __str__(self):\n",
    "    return f\"{self.name}({self.age})\"\n",
    "\n",
    "p1 = Person(\"John\", 36)\n",
    "\n",
    "print(p1)"
   ]
  },
  {
   "cell_type": "code",
   "execution_count": 12,
   "id": "3de5e135-7e8b-4077-99ba-9d6c4e25d106",
   "metadata": {},
   "outputs": [
    {
     "ename": "AttributeError",
     "evalue": "'courses' object has no attribute 'shortname'",
     "output_type": "error",
     "traceback": [
      "\u001b[0;31m---------------------------------------------------------------------------\u001b[0m",
      "\u001b[0;31mAttributeError\u001b[0m                            Traceback (most recent call last)",
      "File \u001b[1;32m/Users/PeilunXie/Desktop/PythonProject/code1.py:6\u001b[0m\n\u001b[1;32m      3\u001b[0m \u001b[39mfrom\u001b[39;00m \u001b[39mdummyclass\u001b[39;00m \u001b[39mimport\u001b[39;00m courses\n\u001b[1;32m      5\u001b[0m biology \u001b[39m=\u001b[39m courses(\u001b[39m\"\u001b[39m\u001b[39mbioscience\u001b[39m\u001b[39m\"\u001b[39m, \u001b[39m\"\u001b[39m\u001b[39mbiosci\u001b[39m\u001b[39m\"\u001b[39m, \u001b[39m1\u001b[39m)\n\u001b[0;32m----> 6\u001b[0m \u001b[39mprint\u001b[39m(biology\u001b[39m.\u001b[39;49mshortname)\n",
      "\u001b[0;31mAttributeError\u001b[0m: 'courses' object has no attribute 'shortname'"
     ]
    }
   ],
   "source": [
    "from dummyclass import courses\n",
    "\n",
    "biology = courses(\"bioscience\", \"biosci\", 1)\n",
    "print(biology.shortname)"
   ]
  },
  {
   "cell_type": "code",
   "execution_count": 13,
   "id": "fa883b06-50f1-4790-aaa6-3d0b7b9ceab2",
   "metadata": {},
   "outputs": [
    {
     "ename": "AttributeError",
     "evalue": "'courses' object has no attribute 'shortname'",
     "output_type": "error",
     "traceback": [
      "\u001b[0;31m---------------------------------------------------------------------------\u001b[0m",
      "\u001b[0;31mAttributeError\u001b[0m                            Traceback (most recent call last)",
      "File \u001b[1;32m/Users/PeilunXie/Desktop/PythonProject/code1.py:6\u001b[0m\n\u001b[1;32m      3\u001b[0m \u001b[39mfrom\u001b[39;00m \u001b[39mdummyclass\u001b[39;00m \u001b[39mimport\u001b[39;00m courses\n\u001b[1;32m      5\u001b[0m biology \u001b[39m=\u001b[39m courses(\u001b[39m\"\u001b[39m\u001b[39mbioscience\u001b[39m\u001b[39m\"\u001b[39m, \u001b[39m\"\u001b[39m\u001b[39mbiosci\u001b[39m\u001b[39m\"\u001b[39m, \u001b[39m1\u001b[39m)\n\u001b[0;32m----> 6\u001b[0m \u001b[39mprint\u001b[39m(biology\u001b[39m.\u001b[39;49mshortname)\n\u001b[1;32m      8\u001b[0m exit()\n",
      "\u001b[0;31mAttributeError\u001b[0m: 'courses' object has no attribute 'shortname'"
     ]
    }
   ],
   "source": [
    "from dummyclass import courses\n",
    "\n",
    "biology = courses(\"bioscience\", \"biosci\", 1)\n",
    "print(biology.shortname)\n",
    "\n",
    "exit()"
   ]
  },
  {
   "cell_type": "markdown",
   "metadata": {},
   "source": [
    "Restarted .venv (Python 3.11.9)"
   ]
  },
  {
   "cell_type": "code",
   "execution_count": 1,
   "id": "7d286a16-84f4-4e8d-8793-8acc68dacf8b",
   "metadata": {},
   "outputs": [
    {
     "name": "stdout",
     "output_type": "stream",
     "text": [
      "biosci\n"
     ]
    },
    {
     "ename": "",
     "evalue": "",
     "output_type": "error",
     "traceback": [
      "\u001b[1;31mThe Kernel crashed while executing code in the current cell or a previous cell. \n",
      "\u001b[1;31mPlease review the code in the cell(s) to identify a possible cause of the failure. \n",
      "\u001b[1;31mClick <a href='https://aka.ms/vscodeJupyterKernelCrash'>here</a> for more info. \n",
      "\u001b[1;31mView Jupyter <a href='command:jupyter.viewOutput'>log</a> for further details."
     ]
    }
   ],
   "source": [
    "from dummyclass import courses\n",
    "\n",
    "biology = courses(\"bioscience\", \"biosci\", 1)\n",
    "print(biology.shortname)\n",
    "\n",
    "exit()"
   ]
  },
  {
   "cell_type": "code",
   "execution_count": null,
   "id": "c892a545-8eaf-4fda-bad8-28b07dfb82d1",
   "metadata": {},
   "outputs": [],
   "source": [
    "from dummyclass import courses\n",
    "\n",
    "biology = courses(\"bioscience\", \"biosci\", 1)\n",
    "print(biology.shortname)"
   ]
  },
  {
   "cell_type": "markdown",
   "metadata": {},
   "source": [
    "Restarted .venv (Python 3.11.9)"
   ]
  },
  {
   "cell_type": "code",
   "execution_count": 1,
   "id": "f8922fa0-02d6-48fd-b87b-0856080d4363",
   "metadata": {},
   "outputs": [
    {
     "name": "stdout",
     "output_type": "stream",
     "text": [
      "biosci\n"
     ]
    }
   ],
   "source": [
    "from dummyclass import courses\n",
    "\n",
    "biology = courses(\"bioscience\", \"biosci\", 1)\n",
    "print(biology.shortname)"
   ]
  },
  {
   "cell_type": "code",
   "execution_count": 2,
   "id": "39433b41-44e2-4895-935a-a32efdca96c9",
   "metadata": {},
   "outputs": [
    {
     "data": {
      "text/plain": [
       "Seq('AGTACACTGGT')"
      ]
     },
     "execution_count": 2,
     "metadata": {},
     "output_type": "execute_result"
    }
   ],
   "source": [
    "import Bio as biopy\n",
    "\n",
    "from Bio.Seq import Seq\n",
    "my_seq = Seq(\"AGTACACTGGT\")\n",
    "my_seq\n",
    "Seq('AGTACACTGGT')"
   ]
  },
  {
   "cell_type": "code",
   "execution_count": 3,
   "id": "8f011765-db36-4b55-b2ea-608540c5d0e0",
   "metadata": {},
   "outputs": [
    {
     "data": {
      "text/plain": [
       "Seq('AGTACACTGGT')"
      ]
     },
     "execution_count": 3,
     "metadata": {},
     "output_type": "execute_result"
    }
   ],
   "source": [
    "import Bio as biopy\n",
    "\n",
    "from Bio.Seq import Seq\n",
    "my_seq = Seq(\"AGTACACTGGT\")\n",
    "my_seq"
   ]
  },
  {
   "cell_type": "code",
   "execution_count": 4,
   "id": "2b0d340f-8408-4e1f-bc2d-2505b51ee901",
   "metadata": {},
   "outputs": [
    {
     "data": {
      "text/plain": [
       "Seq('AGTACACTGGT')"
      ]
     },
     "execution_count": 4,
     "metadata": {},
     "output_type": "execute_result"
    }
   ],
   "source": [
    "import Bio as biopy\n",
    "\n",
    "from Bio.Seq import Seq\n",
    "my_seq = Seq(\"AGTACACTGGT\")\n",
    "my_seq\n",
    "\n",
    "from Bio.Seq import Seq\n",
    "my_dna = Seq(\"AGTACACTGGT\")\n",
    "my_dna"
   ]
  },
  {
   "cell_type": "code",
   "execution_count": 5,
   "id": "efa2aa54-febd-413f-99d6-54ca6b34a552",
   "metadata": {},
   "outputs": [
    {
     "data": {
      "text/plain": [
       "0"
      ]
     },
     "execution_count": 5,
     "metadata": {},
     "output_type": "execute_result"
    }
   ],
   "source": [
    "import Bio as biopy\n",
    "\n",
    "from Bio.Seq import Seq\n",
    "my_seq = Seq(\"AGTACACTGGT\")\n",
    "my_seq.find(\"A\")"
   ]
  },
  {
   "cell_type": "code",
   "execution_count": 6,
   "id": "0968ee46-5d14-4104-b0eb-bca3ed0a6000",
   "metadata": {},
   "outputs": [
    {
     "data": {
      "text/plain": [
       "0"
      ]
     },
     "execution_count": 6,
     "metadata": {},
     "output_type": "execute_result"
    }
   ],
   "source": [
    "import Bio as biopy\n",
    "\n",
    "from Bio.Seq import Seq\n",
    "my_seq = Seq(\"AGTACACTGGT\")\n",
    "my_seq.find(\"AG\")"
   ]
  },
  {
   "cell_type": "code",
   "execution_count": 7,
   "id": "d8e54031-2083-43a2-a4e7-9618e0b75061",
   "metadata": {},
   "outputs": [
    {
     "data": {
      "text/plain": [
       "0"
      ]
     },
     "execution_count": 7,
     "metadata": {},
     "output_type": "execute_result"
    }
   ],
   "source": [
    "import Bio as biopy\n",
    "\n",
    "from Bio.Seq import Seq\n",
    "my_seq = Seq(\"AGTACACTGGT\")\n",
    "my_seq.find(\"AGT\")"
   ]
  },
  {
   "cell_type": "markdown",
   "metadata": {},
   "source": [
    "Restarted .venv (Python 3.11.9)"
   ]
  },
  {
   "cell_type": "code",
   "execution_count": 1,
   "id": "b8a59a81-8ae0-4c8d-99ff-bfb7b4f3f030",
   "metadata": {},
   "outputs": [
    {
     "data": {
      "text/plain": [
       "0"
      ]
     },
     "execution_count": 1,
     "metadata": {},
     "output_type": "execute_result"
    }
   ],
   "source": [
    "import Bio as biopy\n",
    "\n",
    "from Bio.Seq import Seq\n",
    "my_seq = Seq(\"AGTACACTGGT\")\n",
    "my_seq.find(\"AGT\")"
   ]
  },
  {
   "cell_type": "code",
   "execution_count": 2,
   "id": "6d439a88-9c17-41ae-8bd3-c7e2eda4b509",
   "metadata": {},
   "outputs": [
    {
     "data": {
      "text/plain": [
       "0"
      ]
     },
     "execution_count": 2,
     "metadata": {},
     "output_type": "execute_result"
    }
   ],
   "source": [
    "from Bio.Seq import Seq\n",
    "my_seq = Seq(\"AGTACACTGGT\")\n",
    "my_seq.find(\"AGT\")"
   ]
  },
  {
   "cell_type": "code",
   "execution_count": 3,
   "id": "fcefb598-812f-4d57-b44c-a2b113082d17",
   "metadata": {},
   "outputs": [
    {
     "data": {
      "text/plain": [
       "0"
      ]
     },
     "execution_count": 3,
     "metadata": {},
     "output_type": "execute_result"
    }
   ],
   "source": [
    "from Bio.Seq import Seq\n",
    "my_seq = Seq(\"AGTACACTGGT\")\n",
    "my_seq.find(\"AGT\")"
   ]
  },
  {
   "cell_type": "code",
   "execution_count": 4,
   "id": "4a318a63-f861-4bc2-8a70-215b0c724c14",
   "metadata": {},
   "outputs": [
    {
     "data": {
      "text/plain": [
       "1"
      ]
     },
     "execution_count": 4,
     "metadata": {},
     "output_type": "execute_result"
    }
   ],
   "source": [
    "from Bio.Seq import Seq\n",
    "my_seq = Seq(\"AGTACACTGGT\")\n",
    "my_seq.find(\"GTA\")"
   ]
  },
  {
   "cell_type": "code",
   "execution_count": 5,
   "id": "8b73695d-f0f5-4413-a140-79f8e905d191",
   "metadata": {},
   "outputs": [
    {
     "data": {
      "text/plain": [
       "Seq('ACCAGTGTACT')"
      ]
     },
     "execution_count": 5,
     "metadata": {},
     "output_type": "execute_result"
    }
   ],
   "source": [
    "from Bio.Seq import Seq\n",
    "my_seq = Seq(\"AGTACACTGGT\")\n",
    "my_seq.reverse_complement()"
   ]
  },
  {
   "cell_type": "code",
   "execution_count": 6,
   "id": "4e91840c-8167-4473-81c5-84aa0d9cbe7d",
   "metadata": {},
   "outputs": [
    {
     "data": {
      "text/plain": [
       "Seq('TCATGTGACCA')"
      ]
     },
     "execution_count": 6,
     "metadata": {},
     "output_type": "execute_result"
    }
   ],
   "source": [
    "from Bio.Seq import Seq\n",
    "my_seq = Seq(\"AGTACACTGGT\")\n",
    "my_seq.complement()"
   ]
  },
  {
   "cell_type": "code",
   "execution_count": 7,
   "id": "96c39a6b-4804-4364-8076-5ff63ea47ee8",
   "metadata": {},
   "outputs": [
    {
     "data": {
      "text/plain": [
       "Seq('TCATGTGACCA')"
      ]
     },
     "execution_count": 7,
     "metadata": {},
     "output_type": "execute_result"
    }
   ],
   "source": [
    "from Bio.Seq import Seq\n",
    "my_seq = Seq(\"AGTACACTGGT\")\n",
    "my_seq.complement()"
   ]
  },
  {
   "cell_type": "code",
   "execution_count": 8,
   "id": "7f7a1ca4-ea67-4433-9132-b338705b75a2",
   "metadata": {},
   "outputs": [
    {
     "data": {
      "text/plain": [
       "Seq('AGUACACUGGU')"
      ]
     },
     "execution_count": 8,
     "metadata": {},
     "output_type": "execute_result"
    }
   ],
   "source": [
    "from Bio.Seq import Seq\n",
    "my_seq = Seq(\"AGTACACTGGT\")\n",
    "my_seq.transcribe()"
   ]
  },
  {
   "cell_type": "code",
   "execution_count": 9,
   "id": "7eee707a-20fd-4f3e-8ae5-367856207394",
   "metadata": {},
   "outputs": [
    {
     "data": {
      "text/plain": [
       "Seq('AGTACACTGGT')"
      ]
     },
     "execution_count": 9,
     "metadata": {},
     "output_type": "execute_result"
    }
   ],
   "source": [
    "from Bio.Seq import Seq\n",
    "my_seq = Seq(\"AGTACACTGGT\")\n",
    "\n",
    "my_seq\n",
    "\n",
    "# >>> my_rna = my_dna.transcribe()\n",
    "# >>> my_rna"
   ]
  },
  {
   "cell_type": "code",
   "execution_count": 10,
   "id": "d43c47a8-b5a2-4a43-8b40-b2f53ce37f36",
   "metadata": {},
   "outputs": [
    {
     "name": "stdout",
     "output_type": "stream",
     "text": [
      "AGTACACTGGT\n"
     ]
    }
   ],
   "source": [
    "from Bio.Seq import Seq\n",
    "my_seq = Seq(\"AGTACACTGGT\")\n",
    "\n",
    "my_seq\n",
    "print(my_seq)\n",
    "\n",
    "# >>> my_rna = my_dna.transcribe()\n",
    "# >>> my_rna"
   ]
  },
  {
   "cell_type": "code",
   "execution_count": 11,
   "id": "a0b9a3ae-1290-4a7e-b2a3-0fa81d23690a",
   "metadata": {},
   "outputs": [
    {
     "name": "stdout",
     "output_type": "stream",
     "text": [
      "AGTACACTGGT\n"
     ]
    },
    {
     "data": {
      "text/plain": [
       "Seq('AGTACACTGGT')"
      ]
     },
     "execution_count": 11,
     "metadata": {},
     "output_type": "execute_result"
    }
   ],
   "source": [
    "from Bio.Seq import Seq\n",
    "my_seq = Seq(\"AGTACACTGGT\")\n",
    "\n",
    "print(my_seq)\n",
    "my_seq\n",
    "\n",
    "\n",
    "# >>> my_rna = my_dna.transcribe()\n",
    "# >>> my_rna"
   ]
  }
 ],
 "metadata": {
  "kernelspec": {
   "display_name": ".venv",
   "language": "python",
   "name": "python3"
  },
  "language_info": {
   "name": "python",
   "version": "3.11.9"
  }
 },
 "nbformat": 4,
 "nbformat_minor": 2
}
